{
 "cells": [
  {
   "cell_type": "code",
   "execution_count": 1,
   "id": "b4bf4618",
   "metadata": {},
   "outputs": [
    {
     "name": "stderr",
     "output_type": "stream",
     "text": [
      "C:\\Users\\anama\\anaconda3\\envs\\topicmodelin\\lib\\site-packages\\tqdm\\auto.py:22: TqdmWarning: IProgress not found. Please update jupyter and ipywidgets. See https://ipywidgets.readthedocs.io/en/stable/user_install.html\n",
      "  from .autonotebook import tqdm as notebook_tqdm\n"
     ]
    }
   ],
   "source": [
    "import datetime\n",
    "import json\n",
    "import pandas as pd\n",
    "import numpy as np\n",
    "import spacy\n",
    "import re\n",
    "import math\n",
    "from unidecode import unidecode\n",
    "from collections import Counter\n",
    "from pymongo import MongoClient\n",
    "nlp = spacy.load(\"es_core_news_lg\")"
   ]
  },
  {
   "cell_type": "code",
   "execution_count": 56,
   "id": "71424e34",
   "metadata": {},
   "outputs": [],
   "source": [
    "client = MongoClient('mongodb://localhost:27017')\n",
    "database = client['Thesis']\n",
    "collectionDB = database.get_collection(\"text\")\n",
    "collectionWords = database.get_collection(\"words\")\n",
    "collectionDep_1 = database.get_collection(\"text_dep1\")"
   ]
  },
  {
   "cell_type": "code",
   "execution_count": 54,
   "id": "42fd046b",
   "metadata": {},
   "outputs": [],
   "source": [
    "def preproccess_0(texto):\n",
    "    minusculas = texto.lower()\n",
    "    sin_tildes = unidecode(minusculas)\n",
    "\n",
    "    # Step 1: Eliminar caracteres especiales.\n",
    "    texto_sin_caracteres_especiales = re.sub(r\"[^a-zA-Z0-9áéíóúüñÁÉÍÓÚÜÑ\\s]\", \"\", sin_tildes)\n",
    "    # Step 2: Eliminar palabras con más de 20 caracteres o con menos de 2.\n",
    "    palabras = texto_sin_caracteres_especiales.split()\n",
    "    palabras_filtradas = []\n",
    "    for palabra in palabras:\n",
    "        if len(palabra) > 1 and len(palabra) <= 20:\n",
    "            palabras_filtradas.append(palabra)\n",
    "    texto_filtrado = \" \".join(palabras_filtradas)\n",
    "    \n",
    "    # Step 3: Eliminar stopwords.\n",
    "    #doc = nlp(texto_filtrado)\n",
    "    #palabras_sin_stopwords = [token.text for token in doc if not token.is_stop]\n",
    "    #texto_sin_stopwords = \" \".join(palabras_sin_stopwords)   \n",
    "    \n",
    "    if len(texto_filtrado) > 1000000:\n",
    "        sin_tildes = \" \"\n",
    "        for i in range(math.ceil(len(text)/1000000)):\n",
    "            a = math.ceil(len(text)/math.ceil(len(text)/1000000))\n",
    "            text_a = texto_filtrado[i*a:(i+1)*a]\n",
    "            doc = nlp(text_a)\n",
    "            palabras_lematizadas = [token.lemma_ for token in doc]\n",
    "            text_lemma = \" \".join(palabras_lematizadas)\n",
    "            text_unicode = unidecode(text_lemma)\n",
    "            sin_tildes = sin_tildes + \" \" +  text_unicode\n",
    "    else:\n",
    "        # Step 3: Lematizar las palabras.\n",
    "        doc = nlp(texto_filtrado)\n",
    "        palabras_lematizadas = [token.lemma_ for token in doc]\n",
    "        text_lemma = \" \".join(palabras_lematizadas)\n",
    "        sin_tildes = unidecode(text_lemma)     \n",
    "    return sin_tildes"
   ]
  },
  {
   "cell_type": "code",
   "execution_count": 55,
   "id": "f6ca13da",
   "metadata": {},
   "outputs": [
    {
     "name": "stdout",
     "output_type": "stream",
     "text": [
      "Start  -------------------------------\n",
      "21:40:47.212055\n"
     ]
    },
    {
     "name": "stderr",
     "output_type": "stream",
     "text": [
      "C:\\Users\\anama\\AppData\\Local\\Temp\\ipykernel_47324\\1816659237.py:8: FutureWarning: The default dtype for empty Series will be 'object' instead of 'float64' in a future version. Specify a dtype explicitly to silence this warning.\n",
      "  frequency = pd.Series(re.findall(r'\\w+', texto)).value_counts().to_dict()\n",
      "C:\\Users\\anama\\AppData\\Local\\Temp\\ipykernel_47324\\1816659237.py:8: FutureWarning: The default dtype for empty Series will be 'object' instead of 'float64' in a future version. Specify a dtype explicitly to silence this warning.\n",
      "  frequency = pd.Series(re.findall(r'\\w+', texto)).value_counts().to_dict()\n",
      "C:\\Users\\anama\\AppData\\Local\\Temp\\ipykernel_47324\\1816659237.py:8: FutureWarning: The default dtype for empty Series will be 'object' instead of 'float64' in a future version. Specify a dtype explicitly to silence this warning.\n",
      "  frequency = pd.Series(re.findall(r'\\w+', texto)).value_counts().to_dict()\n",
      "C:\\Users\\anama\\AppData\\Local\\Temp\\ipykernel_47324\\1816659237.py:8: FutureWarning: The default dtype for empty Series will be 'object' instead of 'float64' in a future version. Specify a dtype explicitly to silence this warning.\n",
      "  frequency = pd.Series(re.findall(r'\\w+', texto)).value_counts().to_dict()\n",
      "C:\\Users\\anama\\AppData\\Local\\Temp\\ipykernel_47324\\1816659237.py:8: FutureWarning: The default dtype for empty Series will be 'object' instead of 'float64' in a future version. Specify a dtype explicitly to silence this warning.\n",
      "  frequency = pd.Series(re.findall(r'\\w+', texto)).value_counts().to_dict()\n",
      "C:\\Users\\anama\\AppData\\Local\\Temp\\ipykernel_47324\\1816659237.py:8: FutureWarning: The default dtype for empty Series will be 'object' instead of 'float64' in a future version. Specify a dtype explicitly to silence this warning.\n",
      "  frequency = pd.Series(re.findall(r'\\w+', texto)).value_counts().to_dict()\n",
      "C:\\Users\\anama\\AppData\\Local\\Temp\\ipykernel_47324\\1816659237.py:8: FutureWarning: The default dtype for empty Series will be 'object' instead of 'float64' in a future version. Specify a dtype explicitly to silence this warning.\n",
      "  frequency = pd.Series(re.findall(r'\\w+', texto)).value_counts().to_dict()\n",
      "C:\\Users\\anama\\AppData\\Local\\Temp\\ipykernel_47324\\1816659237.py:8: FutureWarning: The default dtype for empty Series will be 'object' instead of 'float64' in a future version. Specify a dtype explicitly to silence this warning.\n",
      "  frequency = pd.Series(re.findall(r'\\w+', texto)).value_counts().to_dict()\n",
      "C:\\Users\\anama\\AppData\\Local\\Temp\\ipykernel_47324\\1816659237.py:8: FutureWarning: The default dtype for empty Series will be 'object' instead of 'float64' in a future version. Specify a dtype explicitly to silence this warning.\n",
      "  frequency = pd.Series(re.findall(r'\\w+', texto)).value_counts().to_dict()\n",
      "C:\\Users\\anama\\AppData\\Local\\Temp\\ipykernel_47324\\1816659237.py:8: FutureWarning: The default dtype for empty Series will be 'object' instead of 'float64' in a future version. Specify a dtype explicitly to silence this warning.\n",
      "  frequency = pd.Series(re.findall(r'\\w+', texto)).value_counts().to_dict()\n",
      "C:\\Users\\anama\\AppData\\Local\\Temp\\ipykernel_47324\\1816659237.py:8: FutureWarning: The default dtype for empty Series will be 'object' instead of 'float64' in a future version. Specify a dtype explicitly to silence this warning.\n",
      "  frequency = pd.Series(re.findall(r'\\w+', texto)).value_counts().to_dict()\n",
      "C:\\Users\\anama\\AppData\\Local\\Temp\\ipykernel_47324\\1816659237.py:8: FutureWarning: The default dtype for empty Series will be 'object' instead of 'float64' in a future version. Specify a dtype explicitly to silence this warning.\n",
      "  frequency = pd.Series(re.findall(r'\\w+', texto)).value_counts().to_dict()\n",
      "C:\\Users\\anama\\AppData\\Local\\Temp\\ipykernel_47324\\1816659237.py:8: FutureWarning: The default dtype for empty Series will be 'object' instead of 'float64' in a future version. Specify a dtype explicitly to silence this warning.\n",
      "  frequency = pd.Series(re.findall(r'\\w+', texto)).value_counts().to_dict()\n",
      "C:\\Users\\anama\\AppData\\Local\\Temp\\ipykernel_47324\\1816659237.py:8: FutureWarning: The default dtype for empty Series will be 'object' instead of 'float64' in a future version. Specify a dtype explicitly to silence this warning.\n",
      "  frequency = pd.Series(re.findall(r'\\w+', texto)).value_counts().to_dict()\n",
      "C:\\Users\\anama\\AppData\\Local\\Temp\\ipykernel_47324\\1816659237.py:8: FutureWarning: The default dtype for empty Series will be 'object' instead of 'float64' in a future version. Specify a dtype explicitly to silence this warning.\n",
      "  frequency = pd.Series(re.findall(r'\\w+', texto)).value_counts().to_dict()\n",
      "C:\\Users\\anama\\AppData\\Local\\Temp\\ipykernel_47324\\1816659237.py:8: FutureWarning: The default dtype for empty Series will be 'object' instead of 'float64' in a future version. Specify a dtype explicitly to silence this warning.\n",
      "  frequency = pd.Series(re.findall(r'\\w+', texto)).value_counts().to_dict()\n",
      "C:\\Users\\anama\\AppData\\Local\\Temp\\ipykernel_47324\\1816659237.py:8: FutureWarning: The default dtype for empty Series will be 'object' instead of 'float64' in a future version. Specify a dtype explicitly to silence this warning.\n",
      "  frequency = pd.Series(re.findall(r'\\w+', texto)).value_counts().to_dict()\n",
      "C:\\Users\\anama\\AppData\\Local\\Temp\\ipykernel_47324\\1816659237.py:8: FutureWarning: The default dtype for empty Series will be 'object' instead of 'float64' in a future version. Specify a dtype explicitly to silence this warning.\n",
      "  frequency = pd.Series(re.findall(r'\\w+', texto)).value_counts().to_dict()\n",
      "C:\\Users\\anama\\AppData\\Local\\Temp\\ipykernel_47324\\1816659237.py:8: FutureWarning: The default dtype for empty Series will be 'object' instead of 'float64' in a future version. Specify a dtype explicitly to silence this warning.\n",
      "  frequency = pd.Series(re.findall(r'\\w+', texto)).value_counts().to_dict()\n"
     ]
    },
    {
     "name": "stdout",
     "output_type": "stream",
     "text": [
      "End -------------------------------\n",
      "10:30:27.285913\n"
     ]
    }
   ],
   "source": [
    "print(\"Start  -------------------------------\")\n",
    "print(datetime.datetime.now().time())\n",
    "count = 0\n",
    "for document in collectionDB.find():\n",
    "    text = document[\"text\"]\n",
    "    number = document[\"file\"]\n",
    "    texto = preproccess_0(text)\n",
    "    frequency = pd.Series(re.findall(r'\\w+', texto)).value_counts().to_dict()\n",
    "    res = dict()\n",
    "    res['version'] = \"0.0.1\"\n",
    "    res['file'] = number\n",
    "    res['freqWords'] = frequency\n",
    "    result_object = collectionWords.insert_one(res)\n",
    "    \n",
    "print(\"End -------------------------------\")\n",
    "print(datetime.datetime.now().time())"
   ]
  },
  {
   "cell_type": "code",
   "execution_count": 57,
   "id": "ca377393",
   "metadata": {},
   "outputs": [
    {
     "name": "stdout",
     "output_type": "stream",
     "text": [
      "Start  -------------------------------\n",
      "15:45:14.054309\n",
      "End -------------------------------\n",
      "04:44:46.322930\n"
     ]
    }
   ],
   "source": [
    "print(\"Start  -------------------------------\")\n",
    "print(datetime.datetime.now().time())\n",
    "count = 0\n",
    "for document in collectionDB.find():\n",
    "    text = document[\"text\"]\n",
    "    number = document[\"file\"]\n",
    "    texto = preproccess_0(text)\n",
    "    res = dict()\n",
    "    res['version'] = \"0.0.1\"\n",
    "    res['file'] = number\n",
    "    res['text'] = texto\n",
    "    result_object = collectionDep_1.insert_one(res)\n",
    "    \n",
    "print(\"End -------------------------------\")\n",
    "print(datetime.datetime.now().time())"
   ]
  },
  {
   "cell_type": "code",
   "execution_count": null,
   "id": "a7776a19",
   "metadata": {},
   "outputs": [],
   "source": [
    "data.columns"
   ]
  }
 ],
 "metadata": {
  "kernelspec": {
   "display_name": "Python 3 (ipykernel)",
   "language": "python",
   "name": "python3"
  },
  "language_info": {
   "codemirror_mode": {
    "name": "ipython",
    "version": 3
   },
   "file_extension": ".py",
   "mimetype": "text/x-python",
   "name": "python",
   "nbconvert_exporter": "python",
   "pygments_lexer": "ipython3",
   "version": "3.8.13"
  }
 },
 "nbformat": 4,
 "nbformat_minor": 5
}
