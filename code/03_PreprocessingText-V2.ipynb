{
 "cells": [
  {
   "cell_type": "code",
   "execution_count": 1,
   "id": "b4bf4618",
   "metadata": {},
   "outputs": [],
   "source": [
    "import datetime\n",
    "import json\n",
    "import pandas as pd\n",
    "import numpy as np\n",
    "import spacy\n",
    "import re\n",
    "import math\n",
    "from unidecode import unidecode\n",
    "from collections import Counter\n",
    "from pymongo import MongoClient\n",
    "nlp = spacy.load(\"es_core_news_lg\")"
   ]
  },
  {
   "cell_type": "code",
   "execution_count": 2,
   "id": "71424e34",
   "metadata": {},
   "outputs": [],
   "source": [
    "client = MongoClient('mongodb://localhost:27017')\n",
    "database = client['Thesis']\n",
    "collectionDB = database.get_collection(\"text\")\n",
    "collectionDep_2 = database.get_collection(\"text_dep4\")"
   ]
  },
  {
   "cell_type": "code",
   "execution_count": 3,
   "id": "e80c9ff3",
   "metadata": {},
   "outputs": [],
   "source": [
    "stop_words = pd.read_excel('../input/stop_words.xlsx')['stop_word'].to_list()"
   ]
  },
  {
   "cell_type": "code",
   "execution_count": 4,
   "id": "42fd046b",
   "metadata": {},
   "outputs": [],
   "source": [
    "def preproccess_0(texto):\n",
    "    texto = texto.replace('\\n', ' ')\n",
    "    texto = texto.replace('\\t', ' ')\n",
    "    texto = re.sub(' +', ' ', texto)\n",
    "    minusculas = texto.lower()\n",
    "    sin_tildes = unidecode(minusculas)\n",
    "\n",
    "    # Step 1: Eliminar caracteres especiales.\n",
    "    texto_sin_caracteres_especiales = re.sub(r\"[^a-zA-ZáéíóúüñÁÉÍÓÚÜÑ\\s]\", \" \", sin_tildes)\n",
    "    # Step 2: Eliminar palabras con más de 20 caracteres o con menos de 2.\n",
    "    palabras = texto_sin_caracteres_especiales.split()\n",
    "    palabras_filtradas = []\n",
    "    for palabra in palabras:\n",
    "        if len(palabra) > 1 and len(palabra) <= 20:\n",
    "            palabras_filtradas.append(palabra)\n",
    "    texto_filtrado = \" \".join(palabras_filtradas)     \n",
    "    # Step 3: Eliminar stopwords.\n",
    "    palabras2 = texto_filtrado.split()\n",
    "    no_stop = [word for word in palabras2 if word not in stop_words]\n",
    "    texto_sin_stopwords = \" \".join(no_stop)  \n",
    "    return texto_sin_stopwords"
   ]
  },
  {
   "cell_type": "code",
   "execution_count": null,
   "id": "b28a2263",
   "metadata": {},
   "outputs": [],
   "source": []
  },
  {
   "cell_type": "code",
   "execution_count": null,
   "id": "ca377393",
   "metadata": {},
   "outputs": [
    {
     "name": "stdout",
     "output_type": "stream",
     "text": [
      "Start  -------------------------------\n",
      "10:45:48.039789\n"
     ]
    }
   ],
   "source": [
    "print(\"Start  -------------------------------\")\n",
    "print(datetime.datetime.now().time())\n",
    "count = 0\n",
    "for document in collectionDB.find():\n",
    "    text = document[\"text\"]\n",
    "    number = document[\"file\"]\n",
    "    texto = preproccess_0(text)\n",
    "    res = dict()\n",
    "    res['version'] = \"0.0.1\"\n",
    "    res['file'] = number\n",
    "    res['text'] = texto\n",
    "    result_object = collectionDep_2.insert_one(res)\n",
    "    \n",
    "print(\"End -------------------------------\")\n",
    "print(datetime.datetime.now().time())"
   ]
  },
  {
   "cell_type": "code",
   "execution_count": null,
   "id": "a7776a19",
   "metadata": {},
   "outputs": [],
   "source": [
    "data.columns"
   ]
  }
 ],
 "metadata": {
  "kernelspec": {
   "display_name": "Python 3 (ipykernel)",
   "language": "python",
   "name": "python3"
  },
  "language_info": {
   "codemirror_mode": {
    "name": "ipython",
    "version": 3
   },
   "file_extension": ".py",
   "mimetype": "text/x-python",
   "name": "python",
   "nbconvert_exporter": "python",
   "pygments_lexer": "ipython3",
   "version": "3.8.15"
  }
 },
 "nbformat": 4,
 "nbformat_minor": 5
}
