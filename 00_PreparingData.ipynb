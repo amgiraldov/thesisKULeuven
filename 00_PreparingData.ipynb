{
 "cells": [
  {
   "cell_type": "code",
   "execution_count": 1,
   "id": "69eadf09",
   "metadata": {},
   "outputs": [],
   "source": [
    "import re\n",
    "import pandas as pd\n",
    "import os\n",
    "import numpy as np\n",
    "import json"
   ]
  },
  {
   "cell_type": "code",
   "execution_count": 2,
   "id": "6cf71e87",
   "metadata": {},
   "outputs": [],
   "source": [
    "%%capture --no-display\n",
    "# Paths ======================================================================\n",
    "os.chdir(\"C:/Users/anama\\OneDrive - KU Leuven/Thesis/dat\")\n"
   ]
  },
  {
   "cell_type": "code",
   "execution_count": 3,
   "id": "93e2e847",
   "metadata": {},
   "outputs": [
    {
     "data": {
      "text/plain": [
       "'C:\\\\Users\\\\anama\\\\OneDrive - KU Leuven\\\\Thesis\\\\dat'"
      ]
     },
     "execution_count": 3,
     "metadata": {},
     "output_type": "execute_result"
    }
   ],
   "source": [
    "os.getcwd()"
   ]
  },
  {
   "cell_type": "code",
   "execution_count": 4,
   "id": "356c34b3",
   "metadata": {},
   "outputs": [],
   "source": [
    "from pymongo import MongoClient\n",
    "client = MongoClient('mongodb://localhost:27017')\n",
    "database = client['Thesis']\n",
    "collectionDB = database.get_collection(\"text\")"
   ]
  },
  {
   "cell_type": "code",
   "execution_count": 5,
   "id": "ea614323",
   "metadata": {},
   "outputs": [],
   "source": [
    "years = os.listdir()"
   ]
  },
  {
   "cell_type": "code",
   "execution_count": 7,
   "id": "95a6e36e",
   "metadata": {},
   "outputs": [
    {
     "name": "stdout",
     "output_type": "stream",
     "text": [
      "1992\n",
      "1993\n",
      "1994\n",
      "1995\n",
      "1996\n",
      "1997\n",
      "1998\n",
      "1999\n",
      "2000\n"
     ]
    },
    {
     "name": "stderr",
     "output_type": "stream",
     "text": [
      "C:\\Users\\anama\\AppData\\Local\\Temp\\ipykernel_31860\\505496304.py:13: FutureWarning: The default dtype for empty Series will be 'object' instead of 'float64' in a future version. Specify a dtype explicitly to silence this warning.\n",
      "  frequency = pd.Series(re.findall(r'\\w+', data1)).value_counts().to_dict()\n"
     ]
    },
    {
     "name": "stdout",
     "output_type": "stream",
     "text": [
      "2001\n",
      "2002\n"
     ]
    },
    {
     "name": "stderr",
     "output_type": "stream",
     "text": [
      "C:\\Users\\anama\\AppData\\Local\\Temp\\ipykernel_31860\\505496304.py:13: FutureWarning: The default dtype for empty Series will be 'object' instead of 'float64' in a future version. Specify a dtype explicitly to silence this warning.\n",
      "  frequency = pd.Series(re.findall(r'\\w+', data1)).value_counts().to_dict()\n",
      "C:\\Users\\anama\\AppData\\Local\\Temp\\ipykernel_31860\\505496304.py:13: FutureWarning: The default dtype for empty Series will be 'object' instead of 'float64' in a future version. Specify a dtype explicitly to silence this warning.\n",
      "  frequency = pd.Series(re.findall(r'\\w+', data1)).value_counts().to_dict()\n",
      "C:\\Users\\anama\\AppData\\Local\\Temp\\ipykernel_31860\\505496304.py:13: FutureWarning: The default dtype for empty Series will be 'object' instead of 'float64' in a future version. Specify a dtype explicitly to silence this warning.\n",
      "  frequency = pd.Series(re.findall(r'\\w+', data1)).value_counts().to_dict()\n",
      "C:\\Users\\anama\\AppData\\Local\\Temp\\ipykernel_31860\\505496304.py:13: FutureWarning: The default dtype for empty Series will be 'object' instead of 'float64' in a future version. Specify a dtype explicitly to silence this warning.\n",
      "  frequency = pd.Series(re.findall(r'\\w+', data1)).value_counts().to_dict()\n",
      "C:\\Users\\anama\\AppData\\Local\\Temp\\ipykernel_31860\\505496304.py:13: FutureWarning: The default dtype for empty Series will be 'object' instead of 'float64' in a future version. Specify a dtype explicitly to silence this warning.\n",
      "  frequency = pd.Series(re.findall(r'\\w+', data1)).value_counts().to_dict()\n",
      "C:\\Users\\anama\\AppData\\Local\\Temp\\ipykernel_31860\\505496304.py:13: FutureWarning: The default dtype for empty Series will be 'object' instead of 'float64' in a future version. Specify a dtype explicitly to silence this warning.\n",
      "  frequency = pd.Series(re.findall(r'\\w+', data1)).value_counts().to_dict()\n",
      "C:\\Users\\anama\\AppData\\Local\\Temp\\ipykernel_31860\\505496304.py:13: FutureWarning: The default dtype for empty Series will be 'object' instead of 'float64' in a future version. Specify a dtype explicitly to silence this warning.\n",
      "  frequency = pd.Series(re.findall(r'\\w+', data1)).value_counts().to_dict()\n",
      "C:\\Users\\anama\\AppData\\Local\\Temp\\ipykernel_31860\\505496304.py:13: FutureWarning: The default dtype for empty Series will be 'object' instead of 'float64' in a future version. Specify a dtype explicitly to silence this warning.\n",
      "  frequency = pd.Series(re.findall(r'\\w+', data1)).value_counts().to_dict()\n",
      "C:\\Users\\anama\\AppData\\Local\\Temp\\ipykernel_31860\\505496304.py:13: FutureWarning: The default dtype for empty Series will be 'object' instead of 'float64' in a future version. Specify a dtype explicitly to silence this warning.\n",
      "  frequency = pd.Series(re.findall(r'\\w+', data1)).value_counts().to_dict()\n",
      "C:\\Users\\anama\\AppData\\Local\\Temp\\ipykernel_31860\\505496304.py:13: FutureWarning: The default dtype for empty Series will be 'object' instead of 'float64' in a future version. Specify a dtype explicitly to silence this warning.\n",
      "  frequency = pd.Series(re.findall(r'\\w+', data1)).value_counts().to_dict()\n",
      "C:\\Users\\anama\\AppData\\Local\\Temp\\ipykernel_31860\\505496304.py:13: FutureWarning: The default dtype for empty Series will be 'object' instead of 'float64' in a future version. Specify a dtype explicitly to silence this warning.\n",
      "  frequency = pd.Series(re.findall(r'\\w+', data1)).value_counts().to_dict()\n",
      "C:\\Users\\anama\\AppData\\Local\\Temp\\ipykernel_31860\\505496304.py:13: FutureWarning: The default dtype for empty Series will be 'object' instead of 'float64' in a future version. Specify a dtype explicitly to silence this warning.\n",
      "  frequency = pd.Series(re.findall(r'\\w+', data1)).value_counts().to_dict()\n",
      "C:\\Users\\anama\\AppData\\Local\\Temp\\ipykernel_31860\\505496304.py:13: FutureWarning: The default dtype for empty Series will be 'object' instead of 'float64' in a future version. Specify a dtype explicitly to silence this warning.\n",
      "  frequency = pd.Series(re.findall(r'\\w+', data1)).value_counts().to_dict()\n",
      "C:\\Users\\anama\\AppData\\Local\\Temp\\ipykernel_31860\\505496304.py:13: FutureWarning: The default dtype for empty Series will be 'object' instead of 'float64' in a future version. Specify a dtype explicitly to silence this warning.\n",
      "  frequency = pd.Series(re.findall(r'\\w+', data1)).value_counts().to_dict()\n",
      "C:\\Users\\anama\\AppData\\Local\\Temp\\ipykernel_31860\\505496304.py:13: FutureWarning: The default dtype for empty Series will be 'object' instead of 'float64' in a future version. Specify a dtype explicitly to silence this warning.\n",
      "  frequency = pd.Series(re.findall(r'\\w+', data1)).value_counts().to_dict()\n",
      "C:\\Users\\anama\\AppData\\Local\\Temp\\ipykernel_31860\\505496304.py:13: FutureWarning: The default dtype for empty Series will be 'object' instead of 'float64' in a future version. Specify a dtype explicitly to silence this warning.\n",
      "  frequency = pd.Series(re.findall(r'\\w+', data1)).value_counts().to_dict()\n",
      "C:\\Users\\anama\\AppData\\Local\\Temp\\ipykernel_31860\\505496304.py:13: FutureWarning: The default dtype for empty Series will be 'object' instead of 'float64' in a future version. Specify a dtype explicitly to silence this warning.\n",
      "  frequency = pd.Series(re.findall(r'\\w+', data1)).value_counts().to_dict()\n"
     ]
    },
    {
     "name": "stdout",
     "output_type": "stream",
     "text": [
      "2003\n",
      "2004\n",
      "2005\n"
     ]
    },
    {
     "name": "stderr",
     "output_type": "stream",
     "text": [
      "C:\\Users\\anama\\AppData\\Local\\Temp\\ipykernel_31860\\505496304.py:13: FutureWarning: The default dtype for empty Series will be 'object' instead of 'float64' in a future version. Specify a dtype explicitly to silence this warning.\n",
      "  frequency = pd.Series(re.findall(r'\\w+', data1)).value_counts().to_dict()\n"
     ]
    },
    {
     "name": "stdout",
     "output_type": "stream",
     "text": [
      "2006\n",
      "2007\n",
      "2008\n",
      "2009\n",
      "2010\n",
      "2011\n",
      "2012\n",
      "2013\n",
      "2014\n",
      "2015\n",
      "2016\n",
      "2017\n",
      "2018\n",
      "2019\n",
      "2020\n",
      "2021\n",
      "2022\n"
     ]
    },
    {
     "ename": "UnicodeDecodeError",
     "evalue": "'utf-8' codec can't decode byte 0xae in position 15: invalid start byte",
     "output_type": "error",
     "traceback": [
      "\u001b[1;31m---------------------------------------------------------------------------\u001b[0m",
      "\u001b[1;31mUnicodeDecodeError\u001b[0m                        Traceback (most recent call last)",
      "Input \u001b[1;32mIn [7]\u001b[0m, in \u001b[0;36m<cell line: 1>\u001b[1;34m()\u001b[0m\n\u001b[0;32m      5\u001b[0m iFile1 \u001b[38;5;241m=\u001b[39m os\u001b[38;5;241m.\u001b[39mgetcwd() \u001b[38;5;241m+\u001b[39m \u001b[38;5;124m'\u001b[39m\u001b[38;5;124m/\u001b[39m\u001b[38;5;124m'\u001b[39m\u001b[38;5;241m+\u001b[39m iYear \u001b[38;5;241m+\u001b[39m  \u001b[38;5;124m'\u001b[39m\u001b[38;5;124m/\u001b[39m\u001b[38;5;124m'\u001b[39m \u001b[38;5;241m+\u001b[39m iFile\n\u001b[0;32m      6\u001b[0m f \u001b[38;5;241m=\u001b[39m \u001b[38;5;28mopen\u001b[39m(iFile1, \u001b[38;5;124m\"\u001b[39m\u001b[38;5;124mr\u001b[39m\u001b[38;5;124m\"\u001b[39m, encoding\u001b[38;5;241m=\u001b[39m\u001b[38;5;124m'\u001b[39m\u001b[38;5;124mutf-8\u001b[39m\u001b[38;5;124m'\u001b[39m)\n\u001b[1;32m----> 7\u001b[0m data \u001b[38;5;241m=\u001b[39m \u001b[43mf\u001b[49m\u001b[38;5;241;43m.\u001b[39;49m\u001b[43mread\u001b[49m\u001b[43m(\u001b[49m\u001b[43m)\u001b[49m\n\u001b[0;32m      8\u001b[0m data1 \u001b[38;5;241m=\u001b[39m data\u001b[38;5;241m.\u001b[39mreplace(\u001b[38;5;124m'\u001b[39m\u001b[38;5;130;01m\\n\u001b[39;00m\u001b[38;5;124m'\u001b[39m, \u001b[38;5;124m'\u001b[39m\u001b[38;5;124m \u001b[39m\u001b[38;5;124m'\u001b[39m)\n\u001b[0;32m      9\u001b[0m data1 \u001b[38;5;241m=\u001b[39m data1\u001b[38;5;241m.\u001b[39mreplace(\u001b[38;5;124m'\u001b[39m\u001b[38;5;130;01m\\t\u001b[39;00m\u001b[38;5;124m'\u001b[39m, \u001b[38;5;124m'\u001b[39m\u001b[38;5;124m \u001b[39m\u001b[38;5;124m'\u001b[39m)\n",
      "File \u001b[1;32m~\\anaconda3\\envs\\thesis\\lib\\codecs.py:322\u001b[0m, in \u001b[0;36mBufferedIncrementalDecoder.decode\u001b[1;34m(self, input, final)\u001b[0m\n\u001b[0;32m    319\u001b[0m \u001b[38;5;28;01mdef\u001b[39;00m \u001b[38;5;21mdecode\u001b[39m(\u001b[38;5;28mself\u001b[39m, \u001b[38;5;28minput\u001b[39m, final\u001b[38;5;241m=\u001b[39m\u001b[38;5;28;01mFalse\u001b[39;00m):\n\u001b[0;32m    320\u001b[0m     \u001b[38;5;66;03m# decode input (taking the buffer into account)\u001b[39;00m\n\u001b[0;32m    321\u001b[0m     data \u001b[38;5;241m=\u001b[39m \u001b[38;5;28mself\u001b[39m\u001b[38;5;241m.\u001b[39mbuffer \u001b[38;5;241m+\u001b[39m \u001b[38;5;28minput\u001b[39m\n\u001b[1;32m--> 322\u001b[0m     (result, consumed) \u001b[38;5;241m=\u001b[39m \u001b[38;5;28;43mself\u001b[39;49m\u001b[38;5;241;43m.\u001b[39;49m\u001b[43m_buffer_decode\u001b[49m\u001b[43m(\u001b[49m\u001b[43mdata\u001b[49m\u001b[43m,\u001b[49m\u001b[43m \u001b[49m\u001b[38;5;28;43mself\u001b[39;49m\u001b[38;5;241;43m.\u001b[39;49m\u001b[43merrors\u001b[49m\u001b[43m,\u001b[49m\u001b[43m \u001b[49m\u001b[43mfinal\u001b[49m\u001b[43m)\u001b[49m\n\u001b[0;32m    323\u001b[0m     \u001b[38;5;66;03m# keep undecoded input until the next call\u001b[39;00m\n\u001b[0;32m    324\u001b[0m     \u001b[38;5;28mself\u001b[39m\u001b[38;5;241m.\u001b[39mbuffer \u001b[38;5;241m=\u001b[39m data[consumed:]\n",
      "\u001b[1;31mUnicodeDecodeError\u001b[0m: 'utf-8' codec can't decode byte 0xae in position 15: invalid start byte"
     ]
    }
   ],
   "source": [
    "for iYear in years:\n",
    "    files = os.listdir(os.getcwd() + '/' + iYear) \n",
    "    print(iYear)\n",
    "    for iFile in files:\n",
    "        iFile1 = os.getcwd() + '/'+ iYear +  '/' + iFile\n",
    "        f = open(iFile1, \"r\", encoding='utf-8')\n",
    "        data = f.read()\n",
    "        data1 = data.replace('\\n', ' ')\n",
    "        data1 = data1.replace('\\t', ' ')\n",
    "        data1 = re.sub(' +', ' ', data1)\n",
    "        data1 = data1.lower()\n",
    "        nWords = len(re.findall(r'\\w+', data1))\n",
    "        frequency = pd.Series(re.findall(r'\\w+', data1)).value_counts().to_dict()\n",
    "        res = dict()\n",
    "        res['version'] = \"0.0.1\"\n",
    "        res['file'] = iFile[:-4]\n",
    "        res['year'] = iYear\n",
    "        res['text'] = data1\n",
    "        res['freqWords'] = frequency\n",
    "        res['nWords'] = nWords\n",
    "        result_object = collectionDB.insert_one(res)"
   ]
  },
  {
   "cell_type": "code",
   "execution_count": 8,
   "id": "fd7a83d0",
   "metadata": {},
   "outputs": [
    {
     "data": {
      "text/plain": [
       "'C:\\\\Users\\\\anama\\\\OneDrive - KU Leuven\\\\Thesis\\\\dat/2022/A1230-22.rtf'"
      ]
     },
     "execution_count": 8,
     "metadata": {},
     "output_type": "execute_result"
    }
   ],
   "source": [
    "iFile1\n"
   ]
  },
  {
   "cell_type": "code",
   "execution_count": null,
   "id": "d72b1852",
   "metadata": {},
   "outputs": [],
   "source": []
  }
 ],
 "metadata": {
  "kernelspec": {
   "display_name": "Python 3 (ipykernel)",
   "language": "python",
   "name": "python3"
  },
  "language_info": {
   "codemirror_mode": {
    "name": "ipython",
    "version": 3
   },
   "file_extension": ".py",
   "mimetype": "text/x-python",
   "name": "python",
   "nbconvert_exporter": "python",
   "pygments_lexer": "ipython3",
   "version": "3.8.15"
  }
 },
 "nbformat": 4,
 "nbformat_minor": 5
}
